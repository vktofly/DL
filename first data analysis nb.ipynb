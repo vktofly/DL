{
  "cells": [
    {
      "cell_type": "markdown",
      "metadata": {
        "id": "view-in-github",
        "colab_type": "text"
      },
      "source": [
        "<a href=\"https://colab.research.google.com/github/vktofly/DL/blob/main/first%20data%20analysis%20nb.ipynb\" target=\"_parent\"><img src=\"https://colab.research.google.com/assets/colab-badge.svg\" alt=\"Open In Colab\"/></a>"
      ]
    },
    {
      "cell_type": "markdown",
      "source": [
        "#Contents"
      ],
      "metadata": {
        "id": "pDnqgFQ6WabV"
      }
    },
    {
      "cell_type": "markdown",
      "source": [
        "Data analysis involves several steps to extract meaningful insights from a dataset. Here are the key steps in a typical data analysis process:\n",
        "\n",
        "1. **Define the Problem or Question:**\n",
        "   - Clearly articulate the problem or question you want to address with your data analysis.\n",
        "\n",
        "2. **Data Collection:**\n",
        "   - Gather relevant data from various sources, ensuring it aligns with your analysis goals.\n",
        "\n",
        "3. **Data Cleaning:**\n",
        "   - Clean the dataset by handling missing values, removing duplicates, and correcting errors to ensure data quality.\n",
        "\n",
        "4. **Exploratory Data Analysis (EDA):**\n",
        "   - Explore the dataset to understand its characteristics, distributions, and relationships. This involves using statistical and visual methods.\n",
        "\n",
        "5. **Data Preprocessing:**\n",
        "   - Prepare the data for analysis by transforming variables, handling outliers, and scaling features as needed.\n",
        "\n",
        "6. **Feature Engineering:**\n",
        "   - Create new features or transform existing ones to improve the performance of machine learning models or gain additional insights.\n",
        "\n",
        "7. **Statistical Analysis:**\n",
        "   - Apply statistical methods to derive patterns, correlations, and inferential insights from the data.\n",
        "\n",
        "8. **Modeling (if applicable):**\n",
        "   - If using machine learning, select an appropriate model, train it on the data, and evaluate its performance.\n",
        "\n",
        "9. **Interpret Results:**\n",
        "   - Analyze the outputs of your analysis and interpret the results in the context of your problem or question.\n",
        "\n",
        "10. **Draw Conclusions:**\n",
        "    - Summarize your findings and draw conclusions based on the analysis. Address the initial problem or question.\n",
        "\n",
        "11. **Visualization and Reporting:**\n",
        "    - Communicate your results effectively using visualizations and reports. Present insights in a clear and understandable manner.\n",
        "\n",
        "12. **Documentation:**\n",
        "    - Document the entire analysis process, including the steps taken, decisions made, and any assumptions. This ensures transparency and reproducibility.\n",
        "\n",
        "13. **Feedback and Iteration:**\n",
        "    - Seek feedback from stakeholders, incorporate suggestions, and iterate on your analysis if necessary.\n",
        "\n",
        "14. **Implementation:**\n",
        "    - Implement any recommended actions or solutions based on the insights gained from the analysis.\n",
        "\n",
        "By following these steps, you can systematically approach data analysis and derive meaningful insights from your datasets."
      ],
      "metadata": {
        "id": "clZD8ZJZWUKd"
      }
    },
    {
      "cell_type": "markdown",
      "source": [
        "#Test"
      ],
      "metadata": {
        "id": "F1blNA17XLIn"
      }
    },
    {
      "cell_type": "code",
      "source": [
        "from google.colab import drive\n",
        "drive.mount('/content/drive')"
      ],
      "metadata": {
        "colab": {
          "base_uri": "https://localhost:8080/"
        },
        "id": "EyklSBlIQaKB",
        "outputId": "3cadb743-30c3-4448-d476-0ad631bf2773"
      },
      "execution_count": 19,
      "outputs": [
        {
          "output_type": "stream",
          "name": "stdout",
          "text": [
            "Drive already mounted at /content/drive; to attempt to forcibly remount, call drive.mount(\"/content/drive\", force_remount=True).\n"
          ]
        }
      ]
    },
    {
      "cell_type": "code",
      "source": [
        "import pandas as pd"
      ],
      "metadata": {
        "id": "TShKdk9uQmpp"
      },
      "execution_count": 20,
      "outputs": []
    },
    {
      "cell_type": "code",
      "source": [
        "train = pd.read_csv('/content/drive/MyDrive/train.csv')"
      ],
      "metadata": {
        "id": "y5BTd-iHQpRU"
      },
      "execution_count": 21,
      "outputs": []
    },
    {
      "cell_type": "code",
      "source": [
        "print(train.head())"
      ],
      "metadata": {
        "colab": {
          "base_uri": "https://localhost:8080/"
        },
        "id": "Bnw_pjyRS8o4",
        "outputId": "f0839c20-06b0-42d4-a61c-d1a10485a488"
      },
      "execution_count": 22,
      "outputs": [
        {
          "output_type": "stream",
          "name": "stdout",
          "text": [
            "   Id  MSSubClass MSZoning  LotFrontage  LotArea Street Alley LotShape  \\\n",
            "0   1          60       RL         65.0     8450   Pave   NaN      Reg   \n",
            "1   2          20       RL         80.0     9600   Pave   NaN      Reg   \n",
            "2   3          60       RL         68.0    11250   Pave   NaN      IR1   \n",
            "3   4          70       RL         60.0     9550   Pave   NaN      IR1   \n",
            "4   5          60       RL         84.0    14260   Pave   NaN      IR1   \n",
            "\n",
            "  LandContour Utilities  ... PoolArea PoolQC Fence MiscFeature MiscVal MoSold  \\\n",
            "0         Lvl    AllPub  ...        0    NaN   NaN         NaN       0      2   \n",
            "1         Lvl    AllPub  ...        0    NaN   NaN         NaN       0      5   \n",
            "2         Lvl    AllPub  ...        0    NaN   NaN         NaN       0      9   \n",
            "3         Lvl    AllPub  ...        0    NaN   NaN         NaN       0      2   \n",
            "4         Lvl    AllPub  ...        0    NaN   NaN         NaN       0     12   \n",
            "\n",
            "  YrSold  SaleType  SaleCondition  SalePrice  \n",
            "0   2008        WD         Normal     208500  \n",
            "1   2007        WD         Normal     181500  \n",
            "2   2008        WD         Normal     223500  \n",
            "3   2006        WD        Abnorml     140000  \n",
            "4   2008        WD         Normal     250000  \n",
            "\n",
            "[5 rows x 81 columns]\n"
          ]
        }
      ]
    },
    {
      "cell_type": "code",
      "source": [
        "test = pd.read_csv('/content/drive/MyDrive/test.csv')\n",
        "print(test.head())"
      ],
      "metadata": {
        "colab": {
          "base_uri": "https://localhost:8080/"
        },
        "id": "pH5ycDD_U8Qa",
        "outputId": "61487d26-071c-4cd0-d5b8-9af5735363a4"
      },
      "execution_count": 23,
      "outputs": [
        {
          "output_type": "stream",
          "name": "stdout",
          "text": [
            "     Id  MSSubClass MSZoning  LotFrontage  LotArea Street Alley LotShape  \\\n",
            "0  1461          20       RH         80.0    11622   Pave   NaN      Reg   \n",
            "1  1462          20       RL         81.0    14267   Pave   NaN      IR1   \n",
            "2  1463          60       RL         74.0    13830   Pave   NaN      IR1   \n",
            "3  1464          60       RL         78.0     9978   Pave   NaN      IR1   \n",
            "4  1465         120       RL         43.0     5005   Pave   NaN      IR1   \n",
            "\n",
            "  LandContour Utilities  ... ScreenPorch PoolArea PoolQC  Fence MiscFeature  \\\n",
            "0         Lvl    AllPub  ...         120        0    NaN  MnPrv         NaN   \n",
            "1         Lvl    AllPub  ...           0        0    NaN    NaN        Gar2   \n",
            "2         Lvl    AllPub  ...           0        0    NaN  MnPrv         NaN   \n",
            "3         Lvl    AllPub  ...           0        0    NaN    NaN         NaN   \n",
            "4         HLS    AllPub  ...         144        0    NaN    NaN         NaN   \n",
            "\n",
            "  MiscVal MoSold  YrSold  SaleType  SaleCondition  \n",
            "0       0      6    2010        WD         Normal  \n",
            "1   12500      6    2010        WD         Normal  \n",
            "2       0      3    2010        WD         Normal  \n",
            "3       0      6    2010        WD         Normal  \n",
            "4       0      1    2010        WD         Normal  \n",
            "\n",
            "[5 rows x 80 columns]\n"
          ]
        }
      ]
    }
  ],
  "metadata": {
    "colab": {
      "provenance": [],
      "authorship_tag": "ABX9TyMUvytloAOE0bgupBhe8jOO",
      "include_colab_link": true
    },
    "kernelspec": {
      "display_name": "Python 3",
      "name": "python3"
    },
    "language_info": {
      "name": "python"
    }
  },
  "nbformat": 4,
  "nbformat_minor": 0
}